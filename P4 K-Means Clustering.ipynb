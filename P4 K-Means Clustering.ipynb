{
 "cells": [
  {
   "cell_type": "code",
   "execution_count": 1,
   "metadata": {},
   "outputs": [],
   "source": [
    "import pandas as pd\n",
    "import numpy as np\n",
    "import matplotlib\n",
    "import matplotlib.pyplot as plt\n",
    "%matplotlib inline"
   ]
  },
  {
   "cell_type": "code",
   "execution_count": 3,
   "metadata": {},
   "outputs": [],
   "source": [
    "df=pd.read_csv(\"CC General.csv\",index_col=0)"
   ]
  },
  {
   "cell_type": "code",
   "execution_count": 4,
   "metadata": {},
   "outputs": [
    {
     "data": {
      "text/html": [
       "<div>\n",
       "<style scoped>\n",
       "    .dataframe tbody tr th:only-of-type {\n",
       "        vertical-align: middle;\n",
       "    }\n",
       "\n",
       "    .dataframe tbody tr th {\n",
       "        vertical-align: top;\n",
       "    }\n",
       "\n",
       "    .dataframe thead th {\n",
       "        text-align: right;\n",
       "    }\n",
       "</style>\n",
       "<table border=\"1\" class=\"dataframe\">\n",
       "  <thead>\n",
       "    <tr style=\"text-align: right;\">\n",
       "      <th></th>\n",
       "      <th>BALANCE</th>\n",
       "      <th>BALANCE_FREQUENCY</th>\n",
       "      <th>PURCHASES</th>\n",
       "      <th>ONEOFF_PURCHASES</th>\n",
       "      <th>INSTALLMENTS_PURCHASES</th>\n",
       "      <th>CASH_ADVANCE</th>\n",
       "      <th>PURCHASES_FREQUENCY</th>\n",
       "      <th>ONEOFF_PURCHASES_FREQUENCY</th>\n",
       "      <th>PURCHASES_INSTALLMENTS_FREQUENCY</th>\n",
       "      <th>CASH_ADVANCE_FREQUENCY</th>\n",
       "      <th>CASH_ADVANCE_TRX</th>\n",
       "      <th>PURCHASES_TRX</th>\n",
       "      <th>CREDIT_LIMIT</th>\n",
       "      <th>PAYMENTS</th>\n",
       "      <th>MINIMUM_PAYMENTS</th>\n",
       "      <th>PRC_FULL_PAYMENT</th>\n",
       "      <th>TENURE</th>\n",
       "    </tr>\n",
       "    <tr>\n",
       "      <th>CUST_ID</th>\n",
       "      <th></th>\n",
       "      <th></th>\n",
       "      <th></th>\n",
       "      <th></th>\n",
       "      <th></th>\n",
       "      <th></th>\n",
       "      <th></th>\n",
       "      <th></th>\n",
       "      <th></th>\n",
       "      <th></th>\n",
       "      <th></th>\n",
       "      <th></th>\n",
       "      <th></th>\n",
       "      <th></th>\n",
       "      <th></th>\n",
       "      <th></th>\n",
       "      <th></th>\n",
       "    </tr>\n",
       "  </thead>\n",
       "  <tbody>\n",
       "    <tr>\n",
       "      <th>C10001</th>\n",
       "      <td>40.900749</td>\n",
       "      <td>0.818182</td>\n",
       "      <td>95.40</td>\n",
       "      <td>0.00</td>\n",
       "      <td>95.4</td>\n",
       "      <td>0.000000</td>\n",
       "      <td>0.166667</td>\n",
       "      <td>0.000000</td>\n",
       "      <td>0.083333</td>\n",
       "      <td>0.000000</td>\n",
       "      <td>0</td>\n",
       "      <td>2</td>\n",
       "      <td>1000.0</td>\n",
       "      <td>201.802084</td>\n",
       "      <td>139.509787</td>\n",
       "      <td>0.000000</td>\n",
       "      <td>12</td>\n",
       "    </tr>\n",
       "    <tr>\n",
       "      <th>C10002</th>\n",
       "      <td>3202.467416</td>\n",
       "      <td>0.909091</td>\n",
       "      <td>0.00</td>\n",
       "      <td>0.00</td>\n",
       "      <td>0.0</td>\n",
       "      <td>6442.945483</td>\n",
       "      <td>0.000000</td>\n",
       "      <td>0.000000</td>\n",
       "      <td>0.000000</td>\n",
       "      <td>0.250000</td>\n",
       "      <td>4</td>\n",
       "      <td>0</td>\n",
       "      <td>7000.0</td>\n",
       "      <td>4103.032597</td>\n",
       "      <td>1072.340217</td>\n",
       "      <td>0.222222</td>\n",
       "      <td>12</td>\n",
       "    </tr>\n",
       "    <tr>\n",
       "      <th>C10003</th>\n",
       "      <td>2495.148862</td>\n",
       "      <td>1.000000</td>\n",
       "      <td>773.17</td>\n",
       "      <td>773.17</td>\n",
       "      <td>0.0</td>\n",
       "      <td>0.000000</td>\n",
       "      <td>1.000000</td>\n",
       "      <td>1.000000</td>\n",
       "      <td>0.000000</td>\n",
       "      <td>0.000000</td>\n",
       "      <td>0</td>\n",
       "      <td>12</td>\n",
       "      <td>7500.0</td>\n",
       "      <td>622.066742</td>\n",
       "      <td>627.284787</td>\n",
       "      <td>0.000000</td>\n",
       "      <td>12</td>\n",
       "    </tr>\n",
       "    <tr>\n",
       "      <th>C10004</th>\n",
       "      <td>1666.670542</td>\n",
       "      <td>0.636364</td>\n",
       "      <td>1499.00</td>\n",
       "      <td>1499.00</td>\n",
       "      <td>0.0</td>\n",
       "      <td>205.788017</td>\n",
       "      <td>0.083333</td>\n",
       "      <td>0.083333</td>\n",
       "      <td>0.000000</td>\n",
       "      <td>0.083333</td>\n",
       "      <td>1</td>\n",
       "      <td>1</td>\n",
       "      <td>7500.0</td>\n",
       "      <td>0.000000</td>\n",
       "      <td>NaN</td>\n",
       "      <td>0.000000</td>\n",
       "      <td>12</td>\n",
       "    </tr>\n",
       "    <tr>\n",
       "      <th>C10005</th>\n",
       "      <td>817.714335</td>\n",
       "      <td>1.000000</td>\n",
       "      <td>16.00</td>\n",
       "      <td>16.00</td>\n",
       "      <td>0.0</td>\n",
       "      <td>0.000000</td>\n",
       "      <td>0.083333</td>\n",
       "      <td>0.083333</td>\n",
       "      <td>0.000000</td>\n",
       "      <td>0.000000</td>\n",
       "      <td>0</td>\n",
       "      <td>1</td>\n",
       "      <td>1200.0</td>\n",
       "      <td>678.334763</td>\n",
       "      <td>244.791237</td>\n",
       "      <td>0.000000</td>\n",
       "      <td>12</td>\n",
       "    </tr>\n",
       "  </tbody>\n",
       "</table>\n",
       "</div>"
      ],
      "text/plain": [
       "             BALANCE  BALANCE_FREQUENCY  PURCHASES  ONEOFF_PURCHASES  \\\n",
       "CUST_ID                                                                \n",
       "C10001     40.900749           0.818182      95.40              0.00   \n",
       "C10002   3202.467416           0.909091       0.00              0.00   \n",
       "C10003   2495.148862           1.000000     773.17            773.17   \n",
       "C10004   1666.670542           0.636364    1499.00           1499.00   \n",
       "C10005    817.714335           1.000000      16.00             16.00   \n",
       "\n",
       "         INSTALLMENTS_PURCHASES  CASH_ADVANCE  PURCHASES_FREQUENCY  \\\n",
       "CUST_ID                                                              \n",
       "C10001                     95.4      0.000000             0.166667   \n",
       "C10002                      0.0   6442.945483             0.000000   \n",
       "C10003                      0.0      0.000000             1.000000   \n",
       "C10004                      0.0    205.788017             0.083333   \n",
       "C10005                      0.0      0.000000             0.083333   \n",
       "\n",
       "         ONEOFF_PURCHASES_FREQUENCY  PURCHASES_INSTALLMENTS_FREQUENCY  \\\n",
       "CUST_ID                                                                 \n",
       "C10001                     0.000000                          0.083333   \n",
       "C10002                     0.000000                          0.000000   \n",
       "C10003                     1.000000                          0.000000   \n",
       "C10004                     0.083333                          0.000000   \n",
       "C10005                     0.083333                          0.000000   \n",
       "\n",
       "         CASH_ADVANCE_FREQUENCY  CASH_ADVANCE_TRX  PURCHASES_TRX  \\\n",
       "CUST_ID                                                            \n",
       "C10001                 0.000000                 0              2   \n",
       "C10002                 0.250000                 4              0   \n",
       "C10003                 0.000000                 0             12   \n",
       "C10004                 0.083333                 1              1   \n",
       "C10005                 0.000000                 0              1   \n",
       "\n",
       "         CREDIT_LIMIT     PAYMENTS  MINIMUM_PAYMENTS  PRC_FULL_PAYMENT  TENURE  \n",
       "CUST_ID                                                                         \n",
       "C10001         1000.0   201.802084        139.509787          0.000000      12  \n",
       "C10002         7000.0  4103.032597       1072.340217          0.222222      12  \n",
       "C10003         7500.0   622.066742        627.284787          0.000000      12  \n",
       "C10004         7500.0     0.000000               NaN          0.000000      12  \n",
       "C10005         1200.0   678.334763        244.791237          0.000000      12  "
      ]
     },
     "execution_count": 4,
     "metadata": {},
     "output_type": "execute_result"
    }
   ],
   "source": [
    "df.head(5)"
   ]
  },
  {
   "cell_type": "code",
   "execution_count": 5,
   "metadata": {
    "scrolled": true
   },
   "outputs": [
    {
     "data": {
      "text/plain": [
       "BALANCE                             float64\n",
       "BALANCE_FREQUENCY                   float64\n",
       "PURCHASES                           float64\n",
       "ONEOFF_PURCHASES                    float64\n",
       "INSTALLMENTS_PURCHASES              float64\n",
       "CASH_ADVANCE                        float64\n",
       "PURCHASES_FREQUENCY                 float64\n",
       "ONEOFF_PURCHASES_FREQUENCY          float64\n",
       "PURCHASES_INSTALLMENTS_FREQUENCY    float64\n",
       "CASH_ADVANCE_FREQUENCY              float64\n",
       "CASH_ADVANCE_TRX                      int64\n",
       "PURCHASES_TRX                         int64\n",
       "CREDIT_LIMIT                        float64\n",
       "PAYMENTS                            float64\n",
       "MINIMUM_PAYMENTS                    float64\n",
       "PRC_FULL_PAYMENT                    float64\n",
       "TENURE                                int64\n",
       "dtype: object"
      ]
     },
     "execution_count": 5,
     "metadata": {},
     "output_type": "execute_result"
    }
   ],
   "source": [
    "df.dtypes"
   ]
  },
  {
   "cell_type": "code",
   "execution_count": 6,
   "metadata": {},
   "outputs": [
    {
     "data": {
      "text/plain": [
       "(8950, 17)"
      ]
     },
     "execution_count": 6,
     "metadata": {},
     "output_type": "execute_result"
    }
   ],
   "source": [
    "df.shape"
   ]
  },
  {
   "cell_type": "code",
   "execution_count": 7,
   "metadata": {},
   "outputs": [
    {
     "name": "stdout",
     "output_type": "stream",
     "text": [
      "<class 'pandas.core.frame.DataFrame'>\n",
      "Index: 8950 entries, C10001 to C19190\n",
      "Data columns (total 17 columns):\n",
      " #   Column                            Non-Null Count  Dtype  \n",
      "---  ------                            --------------  -----  \n",
      " 0   BALANCE                           8950 non-null   float64\n",
      " 1   BALANCE_FREQUENCY                 8950 non-null   float64\n",
      " 2   PURCHASES                         8950 non-null   float64\n",
      " 3   ONEOFF_PURCHASES                  8950 non-null   float64\n",
      " 4   INSTALLMENTS_PURCHASES            8950 non-null   float64\n",
      " 5   CASH_ADVANCE                      8950 non-null   float64\n",
      " 6   PURCHASES_FREQUENCY               8950 non-null   float64\n",
      " 7   ONEOFF_PURCHASES_FREQUENCY        8950 non-null   float64\n",
      " 8   PURCHASES_INSTALLMENTS_FREQUENCY  8950 non-null   float64\n",
      " 9   CASH_ADVANCE_FREQUENCY            8950 non-null   float64\n",
      " 10  CASH_ADVANCE_TRX                  8950 non-null   int64  \n",
      " 11  PURCHASES_TRX                     8950 non-null   int64  \n",
      " 12  CREDIT_LIMIT                      8949 non-null   float64\n",
      " 13  PAYMENTS                          8950 non-null   float64\n",
      " 14  MINIMUM_PAYMENTS                  8637 non-null   float64\n",
      " 15  PRC_FULL_PAYMENT                  8950 non-null   float64\n",
      " 16  TENURE                            8950 non-null   int64  \n",
      "dtypes: float64(14), int64(3)\n",
      "memory usage: 1.2+ MB\n"
     ]
    }
   ],
   "source": [
    "df.info()"
   ]
  },
  {
   "cell_type": "code",
   "execution_count": 8,
   "metadata": {},
   "outputs": [
    {
     "data": {
      "text/plain": [
       "BALANCE                               0\n",
       "BALANCE_FREQUENCY                     0\n",
       "PURCHASES                             0\n",
       "ONEOFF_PURCHASES                      0\n",
       "INSTALLMENTS_PURCHASES                0\n",
       "CASH_ADVANCE                          0\n",
       "PURCHASES_FREQUENCY                   0\n",
       "ONEOFF_PURCHASES_FREQUENCY            0\n",
       "PURCHASES_INSTALLMENTS_FREQUENCY      0\n",
       "CASH_ADVANCE_FREQUENCY                0\n",
       "CASH_ADVANCE_TRX                      0\n",
       "PURCHASES_TRX                         0\n",
       "CREDIT_LIMIT                          1\n",
       "PAYMENTS                              0\n",
       "MINIMUM_PAYMENTS                    313\n",
       "PRC_FULL_PAYMENT                      0\n",
       "TENURE                                0\n",
       "dtype: int64"
      ]
     },
     "execution_count": 8,
     "metadata": {},
     "output_type": "execute_result"
    }
   ],
   "source": [
    "np.sum(df.isnull())"
   ]
  },
  {
   "cell_type": "code",
   "execution_count": 10,
   "metadata": {},
   "outputs": [],
   "source": [
    "df.dropna(inplace=True)"
   ]
  },
  {
   "cell_type": "code",
   "execution_count": 11,
   "metadata": {},
   "outputs": [
    {
     "name": "stdout",
     "output_type": "stream",
     "text": [
      "<class 'pandas.core.frame.DataFrame'>\n",
      "Index: 8636 entries, C10001 to C19190\n",
      "Data columns (total 17 columns):\n",
      " #   Column                            Non-Null Count  Dtype  \n",
      "---  ------                            --------------  -----  \n",
      " 0   BALANCE                           8636 non-null   float64\n",
      " 1   BALANCE_FREQUENCY                 8636 non-null   float64\n",
      " 2   PURCHASES                         8636 non-null   float64\n",
      " 3   ONEOFF_PURCHASES                  8636 non-null   float64\n",
      " 4   INSTALLMENTS_PURCHASES            8636 non-null   float64\n",
      " 5   CASH_ADVANCE                      8636 non-null   float64\n",
      " 6   PURCHASES_FREQUENCY               8636 non-null   float64\n",
      " 7   ONEOFF_PURCHASES_FREQUENCY        8636 non-null   float64\n",
      " 8   PURCHASES_INSTALLMENTS_FREQUENCY  8636 non-null   float64\n",
      " 9   CASH_ADVANCE_FREQUENCY            8636 non-null   float64\n",
      " 10  CASH_ADVANCE_TRX                  8636 non-null   int64  \n",
      " 11  PURCHASES_TRX                     8636 non-null   int64  \n",
      " 12  CREDIT_LIMIT                      8636 non-null   float64\n",
      " 13  PAYMENTS                          8636 non-null   float64\n",
      " 14  MINIMUM_PAYMENTS                  8636 non-null   float64\n",
      " 15  PRC_FULL_PAYMENT                  8636 non-null   float64\n",
      " 16  TENURE                            8636 non-null   int64  \n",
      "dtypes: float64(14), int64(3)\n",
      "memory usage: 1.2+ MB\n"
     ]
    }
   ],
   "source": [
    "df.info()"
   ]
  },
  {
   "cell_type": "code",
   "execution_count": 15,
   "metadata": {},
   "outputs": [
    {
     "data": {
      "text/plain": [
       "array([[2.14779454e-03, 8.18182000e-01, 1.94536779e-03, ...,\n",
       "        1.82564563e-03, 0.00000000e+00, 1.00000000e+00],\n",
       "       [1.68169097e-01, 9.09091000e-01, 0.00000000e+00, ...,\n",
       "        1.40344791e-02, 2.22222000e-01, 1.00000000e+00],\n",
       "       [1.31026136e-01, 1.00000000e+00, 1.57662475e-02, ...,\n",
       "        8.20961806e-03, 0.00000000e+00, 1.00000000e+00],\n",
       "       ...,\n",
       "       [1.22871936e-03, 8.33333000e-01, 2.94456089e-03, ...,\n",
       "        1.07843629e-03, 2.50000000e-01, 0.00000000e+00],\n",
       "       [7.06688341e-04, 8.33333000e-01, 0.00000000e+00, ...,\n",
       "        7.29475795e-04, 2.50000000e-01, 0.00000000e+00],\n",
       "       [1.95717777e-02, 6.66667000e-01, 2.22932216e-02, ...,\n",
       "        1.15527021e-03, 0.00000000e+00, 0.00000000e+00]])"
      ]
     },
     "execution_count": 15,
     "metadata": {},
     "output_type": "execute_result"
    }
   ],
   "source": [
    "from sklearn import preprocessing\n",
    "minmax_norm=preprocessing.MinMaxScaler(feature_range=(0,1))\n",
    "df_norm=minmax_norm.fit_transform(df)\n",
    "df_norm"
   ]
  },
  {
   "cell_type": "code",
   "execution_count": 16,
   "metadata": {},
   "outputs": [
    {
     "data": {
      "text/plain": [
       "array([[-0.74462486, -0.37004679, -0.42918384, ..., -0.30550763,\n",
       "        -0.53772694,  0.35518066],\n",
       "       [ 0.76415211,  0.06767893, -0.47320819, ...,  0.08768873,\n",
       "         0.21238001,  0.35518066],\n",
       "       [ 0.42660239,  0.50540465, -0.11641251, ..., -0.09990611,\n",
       "        -0.53772694,  0.35518066],\n",
       "       ...,\n",
       "       [-0.75297728, -0.29709491, -0.40657175, ..., -0.32957217,\n",
       "         0.30614422, -4.22180042],\n",
       "       [-0.75772142, -0.29709491, -0.47320819, ..., -0.34081076,\n",
       "         0.30614422, -4.22180042],\n",
       "       [-0.58627829, -1.09958965,  0.03129519, ..., -0.32709767,\n",
       "        -0.53772694, -4.22180042]])"
      ]
     },
     "execution_count": 16,
     "metadata": {},
     "output_type": "execute_result"
    }
   ],
   "source": [
    "scaler=preprocessing.StandardScaler()\n",
    "df_scaled=scaler.fit_transform(df)\n",
    "df_scaled"
   ]
  },
  {
   "cell_type": "code",
   "execution_count": 17,
   "metadata": {},
   "outputs": [],
   "source": [
    "from sklearn.cluster import KMeans"
   ]
  },
  {
   "cell_type": "code",
   "execution_count": 19,
   "metadata": {},
   "outputs": [],
   "source": [
    "Sum_of_squared_distances=[]\n",
    "range_n_clusters=[1,2,3,4,5,6,7,8,9,10]\n",
    "for n_clusters in range_n_clusters:\n",
    "    model=KMeans(n_clusters=n_clusters,init='random',n_init=10,random_state=0)\n",
    "    model.fit(df)\n",
    "    Sum_of_squared_distances.append(model.inertia_)"
   ]
  },
  {
   "cell_type": "code",
   "execution_count": 20,
   "metadata": {},
   "outputs": [],
   "source": [
    "Sum_of_squared_distances=[]\n",
    "range_n_clusters=[1,2,3,4,5,6,7,8,9,10]\n",
    "for n_clusters in range_n_clusters:\n",
    "    model=KMeans(n_clusters=n_clusters,init='random',n_init=10,random_state=0)\n",
    "    model.fit(df_norm)\n",
    "    Sum_of_squared_distances.append(model.inertia_)"
   ]
  },
  {
   "cell_type": "code",
   "execution_count": 22,
   "metadata": {},
   "outputs": [
    {
     "data": {
      "image/png": "[encoded data removed]",
      "text/plain": [
       "<Figure size 576x432 with 1 Axes>"
      ]
     },
     "metadata": {
      "needs_background": "light"
     },
     "output_type": "display_data"
    }
   ],
   "source": [
    "plt.figure(figsize=(8,6))\n",
    "plt.plot(range_n_clusters,Sum_of_squared_distances,'-o',color='blue')\n",
    "plt.xlabel('Number of k cluster')\n",
    "plt.ylabel('Sum of Within-Cluster Variance')\n",
    "plt.title('Elbow Norm Method For Optimal k')\n",
    "plt.xticks(range_n_clusters)\n",
    "plt.show()"
   ]
  },
  {
   "cell_type": "code",
   "execution_count": 24,
   "metadata": {},
   "outputs": [
    {
     "name": "stdout",
     "output_type": "stream",
     "text": [
      "Number of clusters:\n",
      " [2, 3, 4, 5, 6, 7, 8, 9, 10]\n",
      "cluster= 2 score 0.3905501972265014\n",
      "cluster= 3 score 0.37638007853666067\n",
      "cluster= 4 score 0.3209983025110771\n",
      "cluster= 5 score 0.3114953515962152\n",
      "cluster= 6 score 0.32024390065227004\n",
      "cluster= 7 score 0.33633107947851903\n",
      "cluster= 8 score 0.31732538716098024\n",
      "cluster= 9 score 0.33539835746962904\n",
      "cluster= 10 score 0.3367763545313939\n"
     ]
    }
   ],
   "source": [
    "from sklearn.metrics import silhouette_samples,silhouette_score\n",
    "sil=[]\n",
    "range_n_clusters=[2,3,4,5,6,7,8,9,10]\n",
    "print(\"Number of clusters:\\n\",range_n_clusters)\n",
    "for n_clusters in range_n_clusters:\n",
    "    clusterer=KMeans(n_clusters=n_clusters,init='random',n_init=10,random_state=0)\n",
    "    preds=clusterer.fit_predict(df_norm)\n",
    "    centers=clusterer.cluster_centers_\n",
    "    score=silhouette_score(df_norm,preds,metric=\"euclidean\")\n",
    "    sil.append(score)\n",
    "    print(\"cluster=\",n_clusters,\"score\",score)"
   ]
  },
  {
   "cell_type": "code",
   "execution_count": 28,
   "metadata": {},
   "outputs": [],
   "source": [
    "km1=KMeans(n_clusters=2,init='random',n_init=10,random_state=0)\n",
    "km1.fit(df)\n",
    "y_km1=km1.predict(df)\n",
    "y_km1=pd.DataFrame(y_km1,columns=[\"cluster\"])"
   ]
  },
  {
   "cell_type": "code",
   "execution_count": 29,
   "metadata": {},
   "outputs": [
    {
     "data": {
      "text/plain": [
       "array([[3.90426367e+03, 9.45409179e-01, 2.42066493e+03, 1.58513581e+03,\n",
       "        8.35929089e+02, 2.63588947e+03, 5.63384223e-01, 3.49043397e-01,\n",
       "        4.11805193e-01, 2.30469492e-01, 6.70352304e+00, 2.86102981e+01,\n",
       "        9.88406750e+03, 4.39443218e+03, 1.80115738e+03, 1.51437765e-01,\n",
       "        1.17457995e+01],\n",
       "       [9.75528154e+02, 8.81349328e-01, 6.46373163e+02, 3.38588315e+02,\n",
       "        3.08071798e+02, 5.48149572e+02, 4.77692845e-01, 1.67021472e-01,\n",
       "        3.57142089e-01, 1.12374274e-01, 2.39302017e+00, 1.13445737e+01,\n",
       "        3.06533259e+03, 1.07539766e+03, 6.09777959e+02, 1.61440646e-01,\n",
       "        1.14769548e+01]])"
      ]
     },
     "execution_count": 29,
     "metadata": {},
     "output_type": "execute_result"
    }
   ],
   "source": [
    "centroid=km1.cluster_centers_\n",
    "centroid"
   ]
  },
  {
   "cell_type": "code",
   "execution_count": 30,
   "metadata": {},
   "outputs": [
    {
     "data": {
      "text/html": [
       "<div>\n",
       "<style scoped>\n",
       "    .dataframe tbody tr th:only-of-type {\n",
       "        vertical-align: middle;\n",
       "    }\n",
       "\n",
       "    .dataframe tbody tr th {\n",
       "        vertical-align: top;\n",
       "    }\n",
       "\n",
       "    .dataframe thead th {\n",
       "        text-align: right;\n",
       "    }\n",
       "</style>\n",
       "<table border=\"1\" class=\"dataframe\">\n",
       "  <thead>\n",
       "    <tr style=\"text-align: right;\">\n",
       "      <th></th>\n",
       "      <th>0</th>\n",
       "      <th>1</th>\n",
       "      <th>2</th>\n",
       "      <th>3</th>\n",
       "      <th>4</th>\n",
       "      <th>5</th>\n",
       "      <th>6</th>\n",
       "      <th>7</th>\n",
       "      <th>8</th>\n",
       "      <th>9</th>\n",
       "      <th>10</th>\n",
       "      <th>11</th>\n",
       "      <th>12</th>\n",
       "      <th>13</th>\n",
       "      <th>14</th>\n",
       "      <th>15</th>\n",
       "      <th>16</th>\n",
       "    </tr>\n",
       "  </thead>\n",
       "  <tbody>\n",
       "    <tr>\n",
       "      <th>0</th>\n",
       "      <td>3904.263674</td>\n",
       "      <td>0.945409</td>\n",
       "      <td>2420.664927</td>\n",
       "      <td>1585.135810</td>\n",
       "      <td>835.929089</td>\n",
       "      <td>2635.889471</td>\n",
       "      <td>0.563384</td>\n",
       "      <td>0.349043</td>\n",
       "      <td>0.411805</td>\n",
       "      <td>0.230469</td>\n",
       "      <td>6.703523</td>\n",
       "      <td>28.610298</td>\n",
       "      <td>9884.067504</td>\n",
       "      <td>4394.432180</td>\n",
       "      <td>1801.157379</td>\n",
       "      <td>0.151438</td>\n",
       "      <td>11.745799</td>\n",
       "    </tr>\n",
       "    <tr>\n",
       "      <th>1</th>\n",
       "      <td>975.528154</td>\n",
       "      <td>0.881349</td>\n",
       "      <td>646.373163</td>\n",
       "      <td>338.588315</td>\n",
       "      <td>308.071798</td>\n",
       "      <td>548.149572</td>\n",
       "      <td>0.477693</td>\n",
       "      <td>0.167021</td>\n",
       "      <td>0.357142</td>\n",
       "      <td>0.112374</td>\n",
       "      <td>2.393020</td>\n",
       "      <td>11.344574</td>\n",
       "      <td>3065.332585</td>\n",
       "      <td>1075.397658</td>\n",
       "      <td>609.777959</td>\n",
       "      <td>0.161441</td>\n",
       "      <td>11.476955</td>\n",
       "    </tr>\n",
       "  </tbody>\n",
       "</table>\n",
       "</div>"
      ],
      "text/plain": [
       "             0         1            2            3           4            5  \\\n",
       "0  3904.263674  0.945409  2420.664927  1585.135810  835.929089  2635.889471   \n",
       "1   975.528154  0.881349   646.373163   338.588315  308.071798   548.149572   \n",
       "\n",
       "          6         7         8         9        10         11           12  \\\n",
       "0  0.563384  0.349043  0.411805  0.230469  6.703523  28.610298  9884.067504   \n",
       "1  0.477693  0.167021  0.357142  0.112374  2.393020  11.344574  3065.332585   \n",
       "\n",
       "            13           14        15         16  \n",
       "0  4394.432180  1801.157379  0.151438  11.745799  \n",
       "1  1075.397658   609.777959  0.161441  11.476955  "
      ]
     },
     "execution_count": 30,
     "metadata": {},
     "output_type": "execute_result"
    }
   ],
   "source": [
    "centroidpd=pd.DataFrame(centroid)\n",
    "centroidpd"
   ]
  },
  {
   "cell_type": "code",
   "execution_count": null,
   "metadata": {},
   "outputs": [],
   "source": []
  }
 ],
 "metadata": {
  "kernelspec": {
   "display_name": "Python 3",
   "language": "python",
   "name": "python3"
  },
  "language_info": {
   "codemirror_mode": {
    "name": "ipython",
    "version": 3
   },
   "file_extension": ".py",
   "mimetype": "text/x-python",
   "name": "python",
   "nbconvert_exporter": "python",
   "pygments_lexer": "ipython3",
   "version": "3.8.3"
  }
 },
 "nbformat": 4,
 "nbformat_minor": 4
}
