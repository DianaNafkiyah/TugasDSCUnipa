{
 "cells": [
  {
   "cell_type": "code",
   "execution_count": 24,
   "metadata": {},
   "outputs": [
    {
     "name": "stdout",
     "output_type": "stream",
     "text": [
      "1. Tipe dari var1 adalah <class 'list'>\n",
      "2. Panjang dari var1 adalah 4\n"
     ]
    }
   ],
   "source": [
    "var1=[1,2,3,4]\n",
    "print(\"1. Tipe dari var1 adalah\",type(var1))\n",
    "print(\"2. Panjang dari var1 adalah\",len(var1))"
   ]
  },
  {
   "cell_type": "code",
   "execution_count": 23,
   "metadata": {},
   "outputs": [
    {
     "name": "stdout",
     "output_type": "stream",
     "text": [
      "1. List first dan second digabungkan menjadi -> [11.25, 18.0, 20.0, 10.75, 9.5]\n",
      "2. Variabel full diurutkan secara descending menjadi: [20.0, 18.0, 11.25, 10.75, 9.5]\n"
     ]
    }
   ],
   "source": [
    "first=[11.25,18.0,20.0]\n",
    "second=[10.75,9.50]\n",
    "full=first+second\n",
    "print(\"1. List first dan second digabungkan menjadi ->\",full)\n",
    "full.sort()\n",
    "full.reverse()\n",
    "full_sorted=full\n",
    "print(\"2. Variabel full diurutkan secara descending menjadi:\",full_sorted)"
   ]
  },
  {
   "cell_type": "code",
   "execution_count": 22,
   "metadata": {},
   "outputs": [
    {
     "name": "stdout",
     "output_type": "stream",
     "text": [
      "1. Indeks dari 20.0 adalah 2\n",
      "2. 14.5 muncul di variabel area sebanyak 0 kali\n",
      "3. Variabel area ditambah anggota 24.5 dan 15.45 menjadi -> [11.25, 18.0, 20.0, 10.75, 9.5, 24.5, 15.45]\n",
      "4. Urutan variabel area dibalik menjadi -> [15.45, 24.5, 9.5, 10.75, 20.0, 18.0, 11.25]\n"
     ]
    }
   ],
   "source": [
    "area=[11.25,18.0,20.0,10.75,9.50]\n",
    "print(\"1. Indeks dari 20.0 adalah\",area.index(20.0))\n",
    "print(\"2. 14.5 muncul di variabel area sebanyak\",area.count(14.5),\"kali\")\n",
    "area.append(24.5)\n",
    "area.append(15.45)\n",
    "print(\"3. Variabel area ditambah anggota 24.5 dan 15.45 menjadi ->\",area)\n",
    "area.reverse()\n",
    "print(\"4. Urutan variabel area dibalik menjadi ->\",area)"
   ]
  },
  {
   "cell_type": "code",
   "execution_count": 31,
   "metadata": {},
   "outputs": [
    {
     "name": "stdout",
     "output_type": "stream",
     "text": [
      "1. Keliling lingkaran = 2.701769682087222\n",
      "2. Luas lingkaran = 0.5808804816487527\n",
      "3. Keliling: 2.701769682087222 dan Luas: 0.5808804816487527\n"
     ]
    }
   ],
   "source": [
    "import math\n",
    "r=0.43\n",
    "keliling=2*math.pi*r\n",
    "print(\"1. Keliling lingkaran =\",keliling)\n",
    "luas=math.pi*r*r\n",
    "print(\"2. Luas lingkaran =\",luas)\n",
    "print(\"3. Keliling:\",keliling,\"dan Luas:\",luas)"
   ]
  },
  {
   "cell_type": "code",
   "execution_count": 34,
   "metadata": {},
   "outputs": [
    {
     "name": "stdout",
     "output_type": "stream",
     "text": [
      "1. Setelah nilai pada index 4 terakhir dihapus: ['hallway', 11.25, 'kitchen', 18.0, 'chill zone', 20.0, 'bedroom', 10.75, 'bathroom', 10.5]\n"
     ]
    }
   ],
   "source": [
    "area_3=[\"hallway\",11.25,\"kitchen\",18.0,\"chill zone\",20.0,\"bedroom\",10.75,\"bathroom\",10.50,\"poolhouse\",24.5,\"garage\",15.45]\n",
    "del area_3[10:14]\n",
    "print(\"1. Setelah nilai pada index 4 terakhir dihapus:\",area_3)"
   ]
  },
  {
   "cell_type": "code",
   "execution_count": 45,
   "metadata": {},
   "outputs": [
    {
     "name": "stdout",
     "output_type": "stream",
     "text": [
      "1. Setelah nilai 'bathroom' diganti menjadi 10.8: ['hallway', 11.25, 'kitchen', 18.0, 'living room', 20.0, 'bedroom', 10.75, 10.8, 9.5]\n",
      "2. Setelah nilai 'living room' diganti menjadi 'ruang tamu': ['hallway', 11.25, 'kitchen', 18.0, 'ruang tamu', 20.0, 'bedroom', 10.75, 10.8, 9.5]\n"
     ]
    }
   ],
   "source": [
    "area_4=[\"hallway\",11.25,\"kitchen\",18.0,\"living room\",20.0,\"bedroom\",10.75,\"bathroom\",9.50]\n",
    "area_4.remove(\"bathroom\")\n",
    "area_4.insert(8,10.8)\n",
    "print(\"1. Setelah nilai 'bathroom' diganti menjadi 10.8:\",area_4)\n",
    "area_4.remove(\"living room\")\n",
    "area_4.insert(4,\"ruang tamu\")\n",
    "print(\"2. Setelah nilai 'living room' diganti menjadi 'ruang tamu':\",area_4)"
   ]
  }
 ],
 "metadata": {
  "kernelspec": {
   "display_name": "Python 3",
   "language": "python",
   "name": "python3"
  },
  "language_info": {
   "codemirror_mode": {
    "name": "ipython",
    "version": 3
   },
   "file_extension": ".py",
   "mimetype": "text/x-python",
   "name": "python",
   "nbconvert_exporter": "python",
   "pygments_lexer": "ipython3",
   "version": "3.8.3"
  }
 },
 "nbformat": 4,
 "nbformat_minor": 4
}
